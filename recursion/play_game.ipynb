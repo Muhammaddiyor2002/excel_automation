{
 "cells": [
  {
   "cell_type": "code",
   "execution_count": 1,
   "id": "5e0022f4",
   "metadata": {},
   "outputs": [],
   "source": [
    "# project\n",
    "\n",
    "towers = [[3,2,1], [], []]"
   ]
  },
  {
   "cell_type": "code",
   "execution_count": 2,
   "id": "850ce6d2",
   "metadata": {},
   "outputs": [
    {
     "data": {
      "text/plain": [
       "[[3, 2, 1], [], []]"
      ]
     },
     "execution_count": 2,
     "metadata": {},
     "output_type": "execute_result"
    }
   ],
   "source": [
    "towers"
   ]
  },
  {
   "cell_type": "code",
   "execution_count": 3,
   "id": "8ecfb266",
   "metadata": {},
   "outputs": [
    {
     "data": {
      "text/plain": [
       "[]"
      ]
     },
     "execution_count": 3,
     "metadata": {},
     "output_type": "execute_result"
    }
   ],
   "source": [
    "towers[2]"
   ]
  },
  {
   "cell_type": "code",
   "execution_count": 4,
   "id": "9f0b8d9c",
   "metadata": {},
   "outputs": [],
   "source": [
    "def move(towers, from_tower, dest_tower):\n",
    "    disk = towers[from_tower].pop()\n",
    "    towers[dest_tower].append(disk)\n",
    "    return towers"
   ]
  },
  {
   "cell_type": "code",
   "execution_count": 5,
   "id": "37526a39",
   "metadata": {},
   "outputs": [],
   "source": [
    "towers = move(towers, 0, 2)"
   ]
  },
  {
   "cell_type": "code",
   "execution_count": 6,
   "id": "11d9c9ce",
   "metadata": {},
   "outputs": [
    {
     "data": {
      "text/plain": [
       "[[3, 2], [], [1]]"
      ]
     },
     "execution_count": 6,
     "metadata": {},
     "output_type": "execute_result"
    }
   ],
   "source": [
    "towers"
   ]
  },
  {
   "cell_type": "code",
   "execution_count": 7,
   "id": "3fa46964",
   "metadata": {},
   "outputs": [],
   "source": [
    "towers = move(towers, 2, 0)"
   ]
  },
  {
   "cell_type": "code",
   "execution_count": 8,
   "id": "495cbb5e",
   "metadata": {},
   "outputs": [
    {
     "data": {
      "text/plain": [
       "[[3, 2, 1], [], []]"
      ]
     },
     "execution_count": 8,
     "metadata": {},
     "output_type": "execute_result"
    }
   ],
   "source": [
    "towers"
   ]
  },
  {
   "cell_type": "code",
   "execution_count": 26,
   "id": "63c7455a",
   "metadata": {},
   "outputs": [],
   "source": [
    "def print_towers(towers):\n",
    "    for i in range(3,0,-1):\n",
    "        for tower in towers:\n",
    "            if len(tower)>= i:\n",
    "                print(tower[i-1], end = '  ')\n",
    "            else:\n",
    "                print('|', end='  ')\n",
    "        print()\n",
    "    print('_______')"
   ]
  },
  {
   "cell_type": "code",
   "execution_count": 27,
   "id": "c0f55f46",
   "metadata": {
    "scrolled": true
   },
   "outputs": [
    {
     "name": "stdout",
     "output_type": "stream",
     "text": [
      "1  |  |  \n",
      "2  |  |  \n",
      "3  |  |  \n",
      "_______\n"
     ]
    }
   ],
   "source": [
    "print_towers(towers)"
   ]
  },
  {
   "cell_type": "code",
   "execution_count": 31,
   "id": "a6b64eb0",
   "metadata": {
    "scrolled": true
   },
   "outputs": [],
   "source": [
    "def solve_tower_of_hanoi(towers, n, start_tower, dest_tower, aux_tower):\n",
    "    if n==0:\n",
    "        return\n",
    "    solve_tower_of_hanoi(towers, n-1, start_tower, aux_tower, dest_tower)\n",
    "    \n",
    "    move(towers, start_tower, dest_tower)\n",
    "    print_towers(towers)\n",
    "    \n",
    "    solve_tower_of_hanoi(towers, n-1, aux_tower, dest_tower, start_tower)"
   ]
  },
  {
   "cell_type": "code",
   "execution_count": 32,
   "id": "1d80cef9",
   "metadata": {},
   "outputs": [
    {
     "name": "stdout",
     "output_type": "stream",
     "text": [
      "1  |  |  \n",
      "2  |  |  \n",
      "3  |  |  \n",
      "_______\n",
      "|  |  |  \n",
      "2  |  |  \n",
      "3  |  1  \n",
      "_______\n",
      "|  |  |  \n",
      "|  |  |  \n",
      "3  2  1  \n",
      "_______\n",
      "|  |  |  \n",
      "|  1  |  \n",
      "3  2  |  \n",
      "_______\n",
      "|  |  |  \n",
      "|  1  |  \n",
      "|  2  3  \n",
      "_______\n",
      "|  |  |  \n",
      "|  |  |  \n",
      "1  2  3  \n",
      "_______\n",
      "|  |  |  \n",
      "|  |  2  \n",
      "1  |  3  \n",
      "_______\n",
      "|  |  1  \n",
      "|  |  2  \n",
      "|  |  3  \n",
      "_______\n"
     ]
    }
   ],
   "source": [
    "towers = [[3,2,1],[],[]]\n",
    "print_towers(towers)\n",
    "solve_tower_of_hanoi(towers,3,0,2,1)"
   ]
  },
  {
   "cell_type": "code",
   "execution_count": null,
   "id": "5408d54e",
   "metadata": {},
   "outputs": [],
   "source": []
  }
 ],
 "metadata": {
  "kernelspec": {
   "display_name": "Python 3 (ipykernel)",
   "language": "python",
   "name": "python3"
  },
  "language_info": {
   "codemirror_mode": {
    "name": "ipython",
    "version": 3
   },
   "file_extension": ".py",
   "mimetype": "text/x-python",
   "name": "python",
   "nbconvert_exporter": "python",
   "pygments_lexer": "ipython3",
   "version": "3.10.2"
  }
 },
 "nbformat": 4,
 "nbformat_minor": 5
}

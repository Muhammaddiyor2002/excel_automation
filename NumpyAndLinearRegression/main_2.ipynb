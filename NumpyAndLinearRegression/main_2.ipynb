{
 "cells": [
  {
   "cell_type": "code",
   "execution_count": null,
   "metadata": {},
   "outputs": [],
   "source": [
    "import numpy as np\n",
    "import csv\n",
    "from sklearn.linear_model import LinearRegression\n",
    "import matplotlib.pyplot as plt\n",
    "%matplotlib inline "
   ]
  },
  {
   "cell_type": "code",
   "execution_count": null,
   "metadata": {},
   "outputs": [],
   "source": [
    "with open(\"./files/cars.csv\", \"r\") as f:\n",
    "    csv_reader = csv.DictReader(f)\n",
    "    cars = list(csv_reader)\n",
    "cars[0]"
   ]
  },
  {
   "cell_type": "code",
   "execution_count": null,
   "metadata": {},
   "outputs": [],
   "source": [
    "horse_power = [int(car['Horsepower']) for car in cars]\n",
    "torque_power = [int(car['Torque']) for car in cars]"
   ]
  },
  {
   "cell_type": "code",
   "execution_count": null,
   "metadata": {},
   "outputs": [],
   "source": [
    "X = np.array(horse_power).reshape((-1, 1))\n",
    "Y = np.array(torque_power).reshape((-1, 1))"
   ]
  },
  {
   "cell_type": "code",
   "execution_count": null,
   "metadata": {},
   "outputs": [],
   "source": [
    "lin_regressor = LinearRegression()\n",
    "lin_regressor.fit(X, Y)\n",
    "Y_pred = lin_regressor.predict(X)"
   ]
  },
  {
   "cell_type": "code",
   "execution_count": null,
   "metadata": {},
   "outputs": [],
   "source": [
    "alpha = str(round(lin_regressor.intercept_[0], 5))\n",
    "beta = str(round(lin_regressor.coef_[0][0]))"
   ]
  },
  {
   "cell_type": "code",
   "execution_count": null,
   "metadata": {},
   "outputs": [],
   "source": [
    "fig, ax = plt.subplots()\n",
    "\n",
    "ax.set_title(f\"Alpha: {alpha}, Beta: {beta}\")\n",
    "ax.scatter(X, Y)\n",
    "ax.plot(X, Y_pred, c='r')"
   ]
  }
 ],
 "metadata": {
  "kernelspec": {
   "display_name": "Python 3",
   "language": "python",
   "name": "python3"
  },
  "language_info": {
   "codemirror_mode": {
    "name": "ipython",
    "version": 3
   },
   "file_extension": ".py",
   "mimetype": "text/x-python",
   "name": "python",
   "nbconvert_exporter": "python",
   "pygments_lexer": "ipython3",
   "version": "3.10.2"
  },
  "orig_nbformat": 4,
  "vscode": {
   "interpreter": {
    "hash": "fb3078a82a1238a432e31ef31dd76b00fa17bcafe2aae41e70a7310c87ffcaab"
   }
  }
 },
 "nbformat": 4,
 "nbformat_minor": 2
}

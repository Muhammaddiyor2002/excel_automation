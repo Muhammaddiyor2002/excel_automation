{
 "cells": [
  {
   "cell_type": "code",
   "execution_count": 1,
   "id": "268011a4",
   "metadata": {},
   "outputs": [],
   "source": [
    "import csv"
   ]
  },
  {
   "cell_type": "code",
   "execution_count": 16,
   "id": "30a3f21c",
   "metadata": {},
   "outputs": [],
   "source": [
    "with open(\"test.csv\", \"r\") as f:\n",
    "    csv_reader = csv.DictReader(f)\n",
    "    name_records = list(csv_reader)"
   ]
  },
  {
   "cell_type": "code",
   "execution_count": 17,
   "id": "6f63c822",
   "metadata": {},
   "outputs": [
    {
     "data": {
      "text/plain": [
       "[{'First name': 'Conor', ' Last name': ' Watd', ' Age': ' 21'},\n",
       " {'First name': 'Rose', ' Last name': ' Peterson', ' Age': ' 13'},\n",
       " {'First name': 'De', ' Last name': ' Paul', ' Age': ' 24'},\n",
       " {'First name': 'Anxel', ' Last name': ' Dimaria 34', ' Age': None}]"
      ]
     },
     "execution_count": 17,
     "metadata": {},
     "output_type": "execute_result"
    }
   ],
   "source": [
    "name_records"
   ]
  },
  {
   "cell_type": "code",
   "execution_count": 19,
   "id": "54f3b39c",
   "metadata": {},
   "outputs": [
    {
     "data": {
      "text/plain": [
       "{'First name': 'Conor', ' Last name': ' Watd', ' Age': ' 21'}"
      ]
     },
     "execution_count": 19,
     "metadata": {},
     "output_type": "execute_result"
    }
   ],
   "source": [
    "name_records[0]"
   ]
  },
  {
   "cell_type": "code",
   "execution_count": 20,
   "id": "a0d412cf",
   "metadata": {},
   "outputs": [
    {
     "data": {
      "text/plain": [
       "'Conor'"
      ]
     },
     "execution_count": 20,
     "metadata": {},
     "output_type": "execute_result"
    }
   ],
   "source": [
    "name_records[0]['First name']"
   ]
  },
  {
   "cell_type": "code",
   "execution_count": 25,
   "id": "79a0a526",
   "metadata": {},
   "outputs": [
    {
     "data": {
      "text/plain": [
       "'Anxel'"
      ]
     },
     "execution_count": 25,
     "metadata": {},
     "output_type": "execute_result"
    }
   ],
   "source": [
    "name_records[3]['First name']"
   ]
  },
  {
   "cell_type": "code",
   "execution_count": 26,
   "id": "ff6f653f",
   "metadata": {},
   "outputs": [
    {
     "ename": "KeyError",
     "evalue": "'Last name'",
     "output_type": "error",
     "traceback": [
      "\u001b[1;31m---------------------------------------------------------------------------\u001b[0m",
      "\u001b[1;31mKeyError\u001b[0m                                  Traceback (most recent call last)",
      "Cell \u001b[1;32mIn [26], line 2\u001b[0m\n\u001b[0;32m      1\u001b[0m \u001b[38;5;28;01mfor\u001b[39;00m record \u001b[38;5;129;01min\u001b[39;00m name_records:\n\u001b[1;32m----> 2\u001b[0m     \u001b[38;5;28mprint\u001b[39m(\u001b[38;5;124mf\u001b[39m\u001b[38;5;124m\"\u001b[39m\u001b[38;5;132;01m{\u001b[39;00mrecord[\u001b[38;5;124m'\u001b[39m\u001b[38;5;124mFirst name\u001b[39m\u001b[38;5;124m'\u001b[39m]\u001b[38;5;132;01m}\u001b[39;00m\u001b[38;5;124m \u001b[39m\u001b[38;5;132;01m{\u001b[39;00m\u001b[43mrecord\u001b[49m\u001b[43m[\u001b[49m\u001b[38;5;124;43m'\u001b[39;49m\u001b[38;5;124;43mLast name\u001b[39;49m\u001b[38;5;124;43m'\u001b[39;49m\u001b[43m]\u001b[49m\u001b[38;5;132;01m}\u001b[39;00m\u001b[38;5;124m: \u001b[39m\u001b[38;5;132;01m{\u001b[39;00mrecord[\u001b[38;5;124m'\u001b[39m\u001b[38;5;124mAge\u001b[39m\u001b[38;5;124m'\u001b[39m]\u001b[38;5;132;01m}\u001b[39;00m\u001b[38;5;124m\"\u001b[39m)\n",
      "\u001b[1;31mKeyError\u001b[0m: 'Last name'"
     ]
    }
   ],
   "source": [
    "for record in name_records:\n",
    "    print(f\"{record['First name']} {record['Last name']}: {record['Age']}\")"
   ]
  },
  {
   "cell_type": "code",
   "execution_count": null,
   "id": "6798d791",
   "metadata": {},
   "outputs": [],
   "source": []
  },
  {
   "cell_type": "code",
   "execution_count": 1,
   "id": "47f826a4",
   "metadata": {},
   "outputs": [],
   "source": [
    "# project\n",
    "\n",
    "import csv"
   ]
  },
  {
   "cell_type": "code",
   "execution_count": 9,
   "id": "be9c382d",
   "metadata": {},
   "outputs": [],
   "source": [
    "with open(\"cars.csv\") as f:\n",
    "    csv_reader = csv.DictReader(f)\n",
    "    cars = list(csv_reader)"
   ]
  },
  {
   "cell_type": "code",
   "execution_count": 10,
   "id": "b8cf2255",
   "metadata": {},
   "outputs": [
    {
     "data": {
      "text/plain": [
       "{'Height': '140',\n",
       " 'Length': '143',\n",
       " 'Width': '202',\n",
       " 'Engine Driveline': 'All-wheel drive',\n",
       " 'Engine Type': 'Audi 3.2L 6 cylinder 250hp 236ft-lbs',\n",
       " 'Engine Hybrid': 'True',\n",
       " 'Number of Forward Gears': '6',\n",
       " 'Engine Transmission': '6 Speed Automatic Select Shift',\n",
       " 'Fuel City mpg': '18',\n",
       " 'Fuel Type': 'Gasoline',\n",
       " 'Fuel Highway mpg': '25',\n",
       " 'Classification': 'Automatic transmission',\n",
       " 'ID': '2009 Audi A3 3.2',\n",
       " 'Make': 'Audi',\n",
       " 'Model Year': '2009 Audi A3',\n",
       " 'Year': '2009',\n",
       " 'Horsepower': '250',\n",
       " 'Torque': '236'}"
      ]
     },
     "execution_count": 10,
     "metadata": {},
     "output_type": "execute_result"
    }
   ],
   "source": [
    "cars[0]"
   ]
  },
  {
   "cell_type": "code",
   "execution_count": 11,
   "id": "33284c48",
   "metadata": {},
   "outputs": [],
   "source": [
    "car_brands = {}\n",
    "for car in cars:\n",
    "    car_brands[car['Make']] = car_brands.get(car['Make'], []) + [car['Horsepower']]"
   ]
  },
  {
   "cell_type": "code",
   "execution_count": 14,
   "id": "56d58cd9",
   "metadata": {},
   "outputs": [],
   "source": [
    "car_brand_hp = {}\n",
    "for car_brand, hp_list in car_brands.items():\n",
    "    hp_sum = 0\n",
    "    for hp in hp_list:\n",
    "        hp_sum  = hp_sum+int(hp)\n",
    "    car_brand_hp[car_brand] = hp_sum/len(hp_list)"
   ]
  },
  {
   "cell_type": "code",
   "execution_count": 15,
   "id": "a0208004",
   "metadata": {},
   "outputs": [
    {
     "data": {
      "text/plain": [
       "{'Audi': 300.18390804597703,\n",
       " 'Acura': 262.8484848484849,\n",
       " 'BMW': 347.18045112781954,\n",
       " 'Chevrolet': 294.8083067092652,\n",
       " 'Nissan': 269.2142857142857,\n",
       " 'Volvo': 247.24271844660194,\n",
       " 'Bentley': 577.4444444444445,\n",
       " 'Toyota': 253.44923076923078,\n",
       " 'Honda': 188.225,\n",
       " 'Ford': 275.4112769485904,\n",
       " 'Rolls-Royce': 475.0,\n",
       " 'Volkswagen': 192.49612403100775,\n",
       " 'Maybach': 599.8461538461538,\n",
       " 'Lamborghini': 554.8,\n",
       " 'Lexus': 301.61538461538464,\n",
       " 'Hyundai': 207.3031914893617,\n",
       " 'Mercedes': 280.21875,\n",
       " 'BMW Motorrad': 233.6206896551724,\n",
       " 'Kia': 179.74074074074073,\n",
       " 'AMG': 525.9,\n",
       " 'Mazda': 187.14880952380952,\n",
       " 'Mercedes-Benz': 388.42857142857144,\n",
       " 'Mercedes-AMG': 494.8333333333333,\n",
       " 'Mitsubishi': 195.35294117647058,\n",
       " 'Cadillac': 340.98,\n",
       " 'Infiniti': 322.1294117647059,\n",
       " 'Dodge': 303.93461538461537,\n",
       " 'Lincoln': 290.5581395348837,\n",
       " 'GMC': 285.9755434782609,\n",
       " 'Porsche': 376.54901960784315,\n",
       " 'Jeep': 207.60504201680672,\n",
       " 'Subaru': 205.2095238095238,\n",
       " 'Buick': 249.88732394366198,\n",
       " 'Suzuki': 185.13725490196077,\n",
       " 'Saab': 222.54237288135593,\n",
       " 'Aston Martin': 470.0,\n",
       " 'Grand Cherokee': 320.0625,\n",
       " 'Land Rover': 373.85714285714283,\n",
       " 'Chrysler': 246.7,\n",
       " 'Ferrari': 540.0,\n",
       " 'Scion': 156.6153846153846,\n",
       " 'MINI': 160.96774193548387,\n",
       " 'Jaguar': 448.75,\n",
       " 'Chrysler Group LLC': 279.1666666666667,\n",
       " 'Lotus': 231.0,\n",
       " 'Maserati': 422.5,\n",
       " 'Mercury': 205.21428571428572}"
      ]
     },
     "execution_count": 15,
     "metadata": {},
     "output_type": "execute_result"
    }
   ],
   "source": [
    "car_brand_hp"
   ]
  }
 ],
 "metadata": {
  "kernelspec": {
   "display_name": "Python 3 (ipykernel)",
   "language": "python",
   "name": "python3"
  },
  "language_info": {
   "codemirror_mode": {
    "name": "ipython",
    "version": 3
   },
   "file_extension": ".py",
   "mimetype": "text/x-python",
   "name": "python",
   "nbconvert_exporter": "python",
   "pygments_lexer": "ipython3",
   "version": "3.10.2"
  }
 },
 "nbformat": 4,
 "nbformat_minor": 5
}

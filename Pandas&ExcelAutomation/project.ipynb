{
 "cells": [
  {
   "cell_type": "code",
   "execution_count": 1,
   "metadata": {},
   "outputs": [],
   "source": [
    "import pandas as pd"
   ]
  },
  {
   "cell_type": "code",
   "execution_count": 4,
   "metadata": {},
   "outputs": [],
   "source": [
    "data = pd.read_csv('SalesData.csv', delimiter=';', parse_dates=True, index_col='Date')"
   ]
  },
  {
   "cell_type": "code",
   "execution_count": 5,
   "metadata": {},
   "outputs": [
    {
     "data": {
      "text/html": [
       "<div>\n",
       "<style scoped>\n",
       "    .dataframe tbody tr th:only-of-type {\n",
       "        vertical-align: middle;\n",
       "    }\n",
       "\n",
       "    .dataframe tbody tr th {\n",
       "        vertical-align: top;\n",
       "    }\n",
       "\n",
       "    .dataframe thead th {\n",
       "        text-align: right;\n",
       "    }\n",
       "</style>\n",
       "<table border=\"1\" class=\"dataframe\">\n",
       "  <thead>\n",
       "    <tr style=\"text-align: right;\">\n",
       "      <th></th>\n",
       "      <th>Sales rep</th>\n",
       "      <th>Item</th>\n",
       "      <th>Price</th>\n",
       "      <th>Quantity</th>\n",
       "      <th>Sale</th>\n",
       "    </tr>\n",
       "    <tr>\n",
       "      <th>Date</th>\n",
       "      <th></th>\n",
       "      <th></th>\n",
       "      <th></th>\n",
       "      <th></th>\n",
       "      <th></th>\n",
       "    </tr>\n",
       "  </thead>\n",
       "  <tbody>\n",
       "    <tr>\n",
       "      <th>2020-05-31</th>\n",
       "      <td>Mia</td>\n",
       "      <td>Markers</td>\n",
       "      <td>4</td>\n",
       "      <td>1</td>\n",
       "      <td>4</td>\n",
       "    </tr>\n",
       "    <tr>\n",
       "      <th>2020-02-01</th>\n",
       "      <td>Mia</td>\n",
       "      <td>Desk chair</td>\n",
       "      <td>199</td>\n",
       "      <td>2</td>\n",
       "      <td>398</td>\n",
       "    </tr>\n",
       "    <tr>\n",
       "      <th>2020-09-21</th>\n",
       "      <td>Oliver</td>\n",
       "      <td>Table</td>\n",
       "      <td>1099</td>\n",
       "      <td>2</td>\n",
       "      <td>2198</td>\n",
       "    </tr>\n",
       "    <tr>\n",
       "      <th>2020-07-15</th>\n",
       "      <td>Charlotte</td>\n",
       "      <td>Desk pad</td>\n",
       "      <td>9</td>\n",
       "      <td>2</td>\n",
       "      <td>18</td>\n",
       "    </tr>\n",
       "    <tr>\n",
       "      <th>2020-05-27</th>\n",
       "      <td>Emma</td>\n",
       "      <td>Book</td>\n",
       "      <td>12</td>\n",
       "      <td>1</td>\n",
       "      <td>12</td>\n",
       "    </tr>\n",
       "  </tbody>\n",
       "</table>\n",
       "</div>"
      ],
      "text/plain": [
       "            Sales rep        Item  Price  Quantity  Sale\n",
       "Date                                                    \n",
       "2020-05-31        Mia     Markers      4         1     4\n",
       "2020-02-01        Mia  Desk chair    199         2   398\n",
       "2020-09-21     Oliver       Table   1099         2  2198\n",
       "2020-07-15  Charlotte    Desk pad      9         2    18\n",
       "2020-05-27       Emma        Book     12         1    12"
      ]
     },
     "execution_count": 5,
     "metadata": {},
     "output_type": "execute_result"
    }
   ],
   "source": [
    "data.head()"
   ]
  },
  {
   "cell_type": "code",
   "execution_count": 6,
   "metadata": {},
   "outputs": [
    {
     "data": {
      "text/html": [
       "<div>\n",
       "<style scoped>\n",
       "    .dataframe tbody tr th:only-of-type {\n",
       "        vertical-align: middle;\n",
       "    }\n",
       "\n",
       "    .dataframe tbody tr th {\n",
       "        vertical-align: top;\n",
       "    }\n",
       "\n",
       "    .dataframe thead th {\n",
       "        text-align: right;\n",
       "    }\n",
       "</style>\n",
       "<table border=\"1\" class=\"dataframe\">\n",
       "  <thead>\n",
       "    <tr style=\"text-align: right;\">\n",
       "      <th></th>\n",
       "      <th>Sales rep</th>\n",
       "      <th>Item</th>\n",
       "      <th>Price</th>\n",
       "      <th>Quantity</th>\n",
       "      <th>Sale</th>\n",
       "    </tr>\n",
       "    <tr>\n",
       "      <th>Date</th>\n",
       "      <th></th>\n",
       "      <th></th>\n",
       "      <th></th>\n",
       "      <th></th>\n",
       "      <th></th>\n",
       "    </tr>\n",
       "  </thead>\n",
       "  <tbody>\n",
       "    <tr>\n",
       "      <th>2020-05-31</th>\n",
       "      <td>Mia</td>\n",
       "      <td>Markers</td>\n",
       "      <td>4</td>\n",
       "      <td>1</td>\n",
       "      <td>4</td>\n",
       "    </tr>\n",
       "    <tr>\n",
       "      <th>2020-02-01</th>\n",
       "      <td>Mia</td>\n",
       "      <td>Desk chair</td>\n",
       "      <td>199</td>\n",
       "      <td>2</td>\n",
       "      <td>398</td>\n",
       "    </tr>\n",
       "    <tr>\n",
       "      <th>2020-09-21</th>\n",
       "      <td>Oliver</td>\n",
       "      <td>Table</td>\n",
       "      <td>1099</td>\n",
       "      <td>2</td>\n",
       "      <td>2198</td>\n",
       "    </tr>\n",
       "    <tr>\n",
       "      <th>2020-07-15</th>\n",
       "      <td>Charlotte</td>\n",
       "      <td>Desk pad</td>\n",
       "      <td>9</td>\n",
       "      <td>2</td>\n",
       "      <td>18</td>\n",
       "    </tr>\n",
       "    <tr>\n",
       "      <th>2020-05-27</th>\n",
       "      <td>Emma</td>\n",
       "      <td>Book</td>\n",
       "      <td>12</td>\n",
       "      <td>1</td>\n",
       "      <td>12</td>\n",
       "    </tr>\n",
       "    <tr>\n",
       "      <th>...</th>\n",
       "      <td>...</td>\n",
       "      <td>...</td>\n",
       "      <td>...</td>\n",
       "      <td>...</td>\n",
       "      <td>...</td>\n",
       "    </tr>\n",
       "    <tr>\n",
       "      <th>2020-02-28</th>\n",
       "      <td>Oliver</td>\n",
       "      <td>Desk chair</td>\n",
       "      <td>199</td>\n",
       "      <td>5</td>\n",
       "      <td>995</td>\n",
       "    </tr>\n",
       "    <tr>\n",
       "      <th>2020-10-01</th>\n",
       "      <td>Sophia</td>\n",
       "      <td>Table</td>\n",
       "      <td>1099</td>\n",
       "      <td>4</td>\n",
       "      <td>4396</td>\n",
       "    </tr>\n",
       "    <tr>\n",
       "      <th>2020-07-28</th>\n",
       "      <td>Sophia</td>\n",
       "      <td>Book</td>\n",
       "      <td>12</td>\n",
       "      <td>1</td>\n",
       "      <td>12</td>\n",
       "    </tr>\n",
       "    <tr>\n",
       "      <th>2020-06-21</th>\n",
       "      <td>Liam</td>\n",
       "      <td>Pen</td>\n",
       "      <td>3</td>\n",
       "      <td>4</td>\n",
       "      <td>12</td>\n",
       "    </tr>\n",
       "    <tr>\n",
       "      <th>2020-01-26</th>\n",
       "      <td>Noah</td>\n",
       "      <td>Desk chair</td>\n",
       "      <td>199</td>\n",
       "      <td>5</td>\n",
       "      <td>995</td>\n",
       "    </tr>\n",
       "  </tbody>\n",
       "</table>\n",
       "<p>1000 rows × 5 columns</p>\n",
       "</div>"
      ],
      "text/plain": [
       "            Sales rep        Item  Price  Quantity  Sale\n",
       "Date                                                    \n",
       "2020-05-31        Mia     Markers      4         1     4\n",
       "2020-02-01        Mia  Desk chair    199         2   398\n",
       "2020-09-21     Oliver       Table   1099         2  2198\n",
       "2020-07-15  Charlotte    Desk pad      9         2    18\n",
       "2020-05-27       Emma        Book     12         1    12\n",
       "...               ...         ...    ...       ...   ...\n",
       "2020-02-28     Oliver  Desk chair    199         5   995\n",
       "2020-10-01     Sophia       Table   1099         4  4396\n",
       "2020-07-28     Sophia        Book     12         1    12\n",
       "2020-06-21       Liam         Pen      3         4    12\n",
       "2020-01-26       Noah  Desk chair    199         5   995\n",
       "\n",
       "[1000 rows x 5 columns]"
      ]
     },
     "execution_count": 6,
     "metadata": {},
     "output_type": "execute_result"
    }
   ],
   "source": [
    "data"
   ]
  },
  {
   "cell_type": "code",
   "execution_count": 8,
   "metadata": {},
   "outputs": [
    {
     "data": {
      "text/plain": [
       "Sales rep    object\n",
       "Item         object\n",
       "Price         int64\n",
       "Quantity      int64\n",
       "Sale          int64\n",
       "dtype: object"
      ]
     },
     "execution_count": 8,
     "metadata": {},
     "output_type": "execute_result"
    }
   ],
   "source": [
    "data.dtypes"
   ]
  },
  {
   "cell_type": "code",
   "execution_count": 9,
   "metadata": {},
   "outputs": [
    {
     "name": "stdout",
     "output_type": "stream",
     "text": [
      "<class 'pandas.core.frame.DataFrame'>\n",
      "DatetimeIndex: 1000 entries, 2020-05-31 to 2020-01-26\n",
      "Data columns (total 5 columns):\n",
      " #   Column     Non-Null Count  Dtype \n",
      "---  ------     --------------  ----- \n",
      " 0   Sales rep  1000 non-null   object\n",
      " 1   Item       1000 non-null   object\n",
      " 2   Price      1000 non-null   int64 \n",
      " 3   Quantity   1000 non-null   int64 \n",
      " 4   Sale       1000 non-null   int64 \n",
      "dtypes: int64(3), object(2)\n",
      "memory usage: 46.9+ KB\n"
     ]
    }
   ],
   "source": [
    "data.info()"
   ]
  },
  {
   "cell_type": "code",
   "execution_count": 10,
   "metadata": {},
   "outputs": [
    {
     "name": "stderr",
     "output_type": "stream",
     "text": [
      "C:\\Users\\mtdCoder\\AppData\\Local\\Temp\\ipykernel_17436\\3937596356.py:1: FutureWarning: The default value of numeric_only in DataFrameGroupBy.sum is deprecated. In a future version, numeric_only will default to False. Either specify numeric_only or select only columns which should be valid for the function.\n",
      "  reps_sales = data.groupby('Sales rep').sum()['Sale']\n"
     ]
    }
   ],
   "source": [
    "reps_sales = data.groupby('Sales rep').sum()['Sale']"
   ]
  },
  {
   "cell_type": "code",
   "execution_count": 11,
   "metadata": {},
   "outputs": [
    {
     "name": "stderr",
     "output_type": "stream",
     "text": [
      "C:\\Users\\mtdCoder\\AppData\\Local\\Temp\\ipykernel_17436\\2072250018.py:1: FutureWarning: The default value of numeric_only in DataFrameGroupBy.sum is deprecated. In a future version, numeric_only will default to False. Either specify numeric_only or select only columns which should be valid for the function.\n",
      "  monthly_sale = data.groupby(pd.Grouper(freq='M')).sum()['Sale']\n"
     ]
    }
   ],
   "source": [
    "monthly_sale = data.groupby(pd.Grouper(freq='M')).sum()['Sale']\n",
    "monthly_sale.index = monthly_sale.index.month_name()"
   ]
  },
  {
   "cell_type": "code",
   "execution_count": 12,
   "metadata": {},
   "outputs": [
    {
     "data": {
      "text/plain": [
       "Date\n",
       "January      69990\n",
       "February     51847\n",
       "March        67500\n",
       "April        58401\n",
       "May          40319\n",
       "June         59397\n",
       "July         64251\n",
       "August       51571\n",
       "September    55666\n",
       "October      50093\n",
       "November     57458\n",
       "December     61941\n",
       "Name: Sale, dtype: int64"
      ]
     },
     "execution_count": 12,
     "metadata": {},
     "output_type": "execute_result"
    }
   ],
   "source": [
    "monthly_sale"
   ]
  },
  {
   "cell_type": "code",
   "execution_count": null,
   "metadata": {},
   "outputs": [],
   "source": [
    "workbook = pd.ExcelWriter('SalesReport.xlsx')\n",
    "reps_sales.to_excel(workbook, sheet_name='Sales per rep')\n",
    "monthly_sale.to_excel(workbook, sheet_name='Monthly')\n",
    "workbook.close()"
   ]
  },
  {
   "cell_type": "code",
   "execution_count": null,
   "metadata": {},
   "outputs": [],
   "source": [
    "workbook = pd.ExcelWriter('SalesReport.xlsx')\n",
    "reps_sales.to_excel(workbook, sheet_name='Sales per rep')\n",
    "monthly_sale.to_excel(workbook, sheet_name='Monthly')\n",
    "\n",
    "chart1 = workbook.book.add_chart({'type': 'column'})\n",
    "\n",
    "# Configure the first series.abs\n",
    "chart1.add_series({\n",
    "    'name': 'Sales per rep',\n",
    "    'categories': \"='Sales per rep'!$A$2:$A$10\",\n",
    "    'values': \"='Sales per rep'!$B$2:$B$10\",\n",
    "\n",
    "})\n",
    "\n",
    "workbook.sheets['Sales per rep'].insert_chart('D2', chart1)\n",
    "\n",
    "\n",
    "chart1 = workbook.book.add_chart({'type': 'column'})\n",
    "\n",
    "# Configure the first series.abs\n",
    "chart1.add_series({\n",
    "    'name': 'Monthly sales',\n",
    "    'categories': '=Monthly!$A$2:$A$13',\n",
    "    'values': '=Monthly!$B$2:$B$13',\n",
    "\n",
    "})\n",
    "\n",
    "workbook.sheets['Monthly'].insert_chart('D2', chart1)\n",
    "\n",
    "workbook.close()"
   ]
  }
 ],
 "metadata": {
  "kernelspec": {
   "display_name": "Python 3",
   "language": "python",
   "name": "python3"
  },
  "language_info": {
   "codemirror_mode": {
    "name": "ipython",
    "version": 3
   },
   "file_extension": ".py",
   "mimetype": "text/x-python",
   "name": "python",
   "nbconvert_exporter": "python",
   "pygments_lexer": "ipython3",
   "version": "3.10.2"
  },
  "orig_nbformat": 4,
  "vscode": {
   "interpreter": {
    "hash": "fb3078a82a1238a432e31ef31dd76b00fa17bcafe2aae41e70a7310c87ffcaab"
   }
  }
 },
 "nbformat": 4,
 "nbformat_minor": 2
}

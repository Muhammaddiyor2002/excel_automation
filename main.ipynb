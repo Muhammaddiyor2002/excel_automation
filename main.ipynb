{
 "cells": [
  {
   "cell_type": "code",
   "execution_count": 6,
   "id": "3551ded0",
   "metadata": {},
   "outputs": [
    {
     "name": "stdout",
     "output_type": "stream",
     "text": [
      "a equals b\n"
     ]
    }
   ],
   "source": [
    "a = 10\n",
    "b = 10\n",
    "if a == b:\n",
    "    print(\"a equals b\")"
   ]
  },
  {
   "cell_type": "code",
   "execution_count": 7,
   "id": "d3782136",
   "metadata": {},
   "outputs": [
    {
     "name": "stdout",
     "output_type": "stream",
     "text": [
      "a is less than b\n"
     ]
    }
   ],
   "source": [
    "a = 10\n",
    "b = 12\n",
    "if a<b:\n",
    "    print(\"a is less than b\")"
   ]
  },
  {
   "cell_type": "code",
   "execution_count": 11,
   "id": "222e7d80",
   "metadata": {},
   "outputs": [
    {
     "name": "stdout",
     "output_type": "stream",
     "text": [
      "a is not greater than b\n"
     ]
    }
   ],
   "source": [
    "a = 19\n",
    "b = 19\n",
    "if a>b:\n",
    "    print(\"a is greater than b\")\n",
    "else:\n",
    "    print(\"a is not greater than b\")"
   ]
  },
  {
   "cell_type": "code",
   "execution_count": 14,
   "id": "873659ae",
   "metadata": {},
   "outputs": [
    {
     "name": "stdout",
     "output_type": "stream",
     "text": [
      "a is greater than b\n"
     ]
    }
   ],
   "source": [
    "a = 13\n",
    "b = 12\n",
    "if a>b:\n",
    "    print(\"a is greater than b\")\n",
    "elif a==b:\n",
    "    print(\"a is equal to b\")\n",
    "else:\n",
    "    print(\"a is less than b\")"
   ]
  },
  {
   "cell_type": "code",
   "execution_count": 16,
   "id": "15210390",
   "metadata": {},
   "outputs": [],
   "source": [
    "a = 13\n",
    "b = 13\n",
    "if  a!=b:\n",
    "    print(\"a does not equal b\")"
   ]
  },
  {
   "cell_type": "code",
   "execution_count": 3,
   "id": "9c995f37",
   "metadata": {},
   "outputs": [
    {
     "name": "stdout",
     "output_type": "stream",
     "text": [
      "what's your gender (M/F: )m\n",
      "What is your age? 21\n",
      "Less/equal to 26\n",
      "What's the market price of your car?200000\n",
      "Ensurance offer: 46000.0\n"
     ]
    }
   ],
   "source": [
    "# 1-project\n",
    "\n",
    "\n",
    "gender = input(\"what's your gender (M/F: )\")\n",
    "gender = gender.upper()\n",
    "if gender == 'M':\n",
    "    age = input('What is your age? ')\n",
    "    age = int(age)\n",
    "    if age <=26:\n",
    "        print(\"Less/equal to 26\")\n",
    "        percentage = 23\n",
    "    else:\n",
    "        print(\"More than 26\")\n",
    "        percentage =  9\n",
    "elif gender == 'F':\n",
    "    print(\"Female\")\n",
    "    car_type = input(\"What's your car type (sports/non-sports )\")\n",
    "    car_type = car_type.upper()\n",
    "    if car_type == \"SPORTS\":\n",
    "        print(\"Sports car\")\n",
    "        percentage = 21\n",
    "    else:\n",
    "        print(\"Non-sport car\")\n",
    "        percentage = 10\n",
    "else:\n",
    "    print(\"Wrong format\")\n",
    "    percentage = None\n",
    "\n",
    "market_price = input(\"What's the market price of your car?\")\n",
    "market_price = int(market_price)\n",
    "\n",
    "ensurance_offer = market_price*percentage/100\n",
    "print(f\"Ensurance offer: {ensurance_offer}\")"
   ]
  },
  {
   "cell_type": "code",
   "execution_count": null,
   "id": "686475a3",
   "metadata": {},
   "outputs": [],
   "source": []
  }
 ],
 "metadata": {
  "kernelspec": {
   "display_name": "Python 3 (ipykernel)",
   "language": "python",
   "name": "python3"
  },
  "language_info": {
   "codemirror_mode": {
    "name": "ipython",
    "version": 3
   },
   "file_extension": ".py",
   "mimetype": "text/x-python",
   "name": "python",
   "nbconvert_exporter": "python",
   "pygments_lexer": "ipython3",
   "version": "3.10.2"
  }
 },
 "nbformat": 4,
 "nbformat_minor": 5
}

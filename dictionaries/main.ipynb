{
 "cells": [
  {
   "cell_type": "code",
   "execution_count": 1,
   "id": "fadf3ec1",
   "metadata": {},
   "outputs": [],
   "source": [
    "my_dict = {\n",
    "    'Key 1': 'Value 1',\n",
    "    'Key 2': 'Value 2'\n",
    "}"
   ]
  },
  {
   "cell_type": "code",
   "execution_count": 3,
   "id": "39cfe8c8",
   "metadata": {},
   "outputs": [
    {
     "data": {
      "text/plain": [
       "'Value 1'"
      ]
     },
     "execution_count": 3,
     "metadata": {},
     "output_type": "execute_result"
    }
   ],
   "source": [
    "my_dict['Key 1']"
   ]
  },
  {
   "cell_type": "code",
   "execution_count": 5,
   "id": "d73a0acf",
   "metadata": {},
   "outputs": [
    {
     "data": {
      "text/plain": [
       "'Value 2'"
      ]
     },
     "execution_count": 5,
     "metadata": {},
     "output_type": "execute_result"
    }
   ],
   "source": [
    "my_dict['Key 2']"
   ]
  },
  {
   "cell_type": "code",
   "execution_count": 6,
   "id": "88e6f1ab",
   "metadata": {},
   "outputs": [],
   "source": [
    "my_dict['Key 3'] = 'Value 3'"
   ]
  },
  {
   "cell_type": "code",
   "execution_count": 8,
   "id": "ecfefcd4",
   "metadata": {},
   "outputs": [
    {
     "data": {
      "text/plain": [
       "{'Key 1': 'Value 1', 'Key 2': 'Value 2', 'Key 3': 'Value 3'}"
      ]
     },
     "execution_count": 8,
     "metadata": {},
     "output_type": "execute_result"
    }
   ],
   "source": [
    "my_dict"
   ]
  },
  {
   "cell_type": "code",
   "execution_count": 9,
   "id": "72b6a3d1",
   "metadata": {},
   "outputs": [],
   "source": [
    "my_dict['Key 2'] = 'Value 3'"
   ]
  },
  {
   "cell_type": "code",
   "execution_count": 11,
   "id": "34ecf081",
   "metadata": {},
   "outputs": [
    {
     "data": {
      "text/plain": [
       "{'Key 1': 'Value 1', 'Key 2': 'Value 3', 'Key 3': 'Value 3'}"
      ]
     },
     "execution_count": 11,
     "metadata": {},
     "output_type": "execute_result"
    }
   ],
   "source": [
    "my_dict"
   ]
  },
  {
   "cell_type": "code",
   "execution_count": 12,
   "id": "397f2c05",
   "metadata": {},
   "outputs": [],
   "source": [
    "car = {\n",
    "    'Brand': 'Lamborghini',\n",
    "    'Model': 'Veneno',\n",
    "    'Year': 2022\n",
    "}"
   ]
  },
  {
   "cell_type": "code",
   "execution_count": 14,
   "id": "9030d835",
   "metadata": {},
   "outputs": [
    {
     "data": {
      "text/plain": [
       "{'Brand': 'Lamborghini', 'Model': 'Veneno', 'Year': 2022}"
      ]
     },
     "execution_count": 14,
     "metadata": {},
     "output_type": "execute_result"
    }
   ],
   "source": [
    "car"
   ]
  },
  {
   "cell_type": "code",
   "execution_count": 15,
   "id": "f13bd24b",
   "metadata": {},
   "outputs": [],
   "source": [
    "items = ['Pen','Scissor','Pen','Pen','Scissor']\n",
    "count = {}\n",
    "for item in items:\n",
    "    count[item] = count.get(item, 0) + 1"
   ]
  },
  {
   "cell_type": "code",
   "execution_count": 16,
   "id": "6ad877ca",
   "metadata": {},
   "outputs": [
    {
     "data": {
      "text/plain": [
       "{'Pen': 3, 'Scissor': 2}"
      ]
     },
     "execution_count": 16,
     "metadata": {},
     "output_type": "execute_result"
    }
   ],
   "source": [
    "count"
   ]
  },
  {
   "cell_type": "code",
   "execution_count": 17,
   "id": "f679d6f8",
   "metadata": {},
   "outputs": [
    {
     "name": "stdout",
     "output_type": "stream",
     "text": [
      "Pen 3\n",
      "Scissor 2\n"
     ]
    }
   ],
   "source": [
    "for key, value in count.items():\n",
    "    print(key, value)"
   ]
  },
  {
   "cell_type": "code",
   "execution_count": 18,
   "id": "30adb3b7",
   "metadata": {},
   "outputs": [
    {
     "name": "stdout",
     "output_type": "stream",
     "text": [
      "Brand Lamborghini\n",
      "Model Veneno\n",
      "Year 2022\n"
     ]
    }
   ],
   "source": [
    "for key, value in car.items():\n",
    "    print(key, value)"
   ]
  },
  {
   "cell_type": "code",
   "execution_count": 19,
   "id": "1522644f",
   "metadata": {},
   "outputs": [
    {
     "data": {
      "text/plain": [
       "['Brand', 'Model', 'Year']"
      ]
     },
     "execution_count": 19,
     "metadata": {},
     "output_type": "execute_result"
    }
   ],
   "source": [
    "list(car.keys())"
   ]
  },
  {
   "cell_type": "code",
   "execution_count": 20,
   "id": "fb1f6cb4",
   "metadata": {},
   "outputs": [
    {
     "data": {
      "text/plain": [
       "list"
      ]
     },
     "execution_count": 20,
     "metadata": {},
     "output_type": "execute_result"
    }
   ],
   "source": [
    "type(list(car.keys()))"
   ]
  },
  {
   "cell_type": "code",
   "execution_count": 21,
   "id": "bd26acae",
   "metadata": {},
   "outputs": [
    {
     "data": {
      "text/plain": [
       "['Pen', 'Scissor']"
      ]
     },
     "execution_count": 21,
     "metadata": {},
     "output_type": "execute_result"
    }
   ],
   "source": [
    "list(count.keys())"
   ]
  },
  {
   "cell_type": "code",
   "execution_count": null,
   "id": "f02e3697",
   "metadata": {},
   "outputs": [],
   "source": []
  },
  {
   "cell_type": "code",
   "execution_count": 39,
   "id": "bc6a061f",
   "metadata": {},
   "outputs": [],
   "source": [
    "# project\n",
    "\n",
    "import random"
   ]
  },
  {
   "cell_type": "code",
   "execution_count": 42,
   "id": "1a5051a1",
   "metadata": {},
   "outputs": [
    {
     "name": "stdout",
     "output_type": "stream",
     "text": [
      "What's the capital of Sweden? Stokholm\n",
      "Incorrect! The capital of Sweden is Stockholm !\n",
      "What's the capital of France? defr\n",
      "Incorrect! The capital of France is Paris !\n",
      "What's the capital of Finland? Helsinki\n",
      "Correct! The capital of Finland is Helsinki !\n",
      "Your score: 1\n"
     ]
    }
   ],
   "source": [
    "capitals = {'France': 'Paris', 'Finland': 'Helsinki', 'Sweden': 'Stockholm','Danemark':'Copengagen' }\n",
    "\n",
    "score = 0\n",
    "\n",
    "for i in range(3):\n",
    "    country = random.choice(list(capitals.keys()))\n",
    "    \n",
    "    answer = input(f\"What's the capital of {country}? \")\n",
    "    if answer.lower() == capitals[country].lower():\n",
    "        print(f\"Correct! The capital of {country} is {capitals[country]} !\")\n",
    "        score = score + 1\n",
    "    else:\n",
    "        print(f\"Incorrect! The capital of {country} is {capitals[country]} !\")\n",
    "\n",
    "print(f\"Your score: {score}\")"
   ]
  },
  {
   "cell_type": "code",
   "execution_count": 46,
   "id": "44110b22",
   "metadata": {},
   "outputs": [
    {
     "name": "stdout",
     "output_type": "stream",
     "text": [
      "Write a ;ine of text: this is my house\n",
      "t: 1\n",
      "h: 2\n",
      "i: 2\n",
      "s: 3\n",
      " : 3\n",
      "m: 1\n",
      "y: 1\n",
      "o: 1\n",
      "u: 1\n",
      "e: 1\n"
     ]
    }
   ],
   "source": [
    "text = input(\"Write a line of text: \")\n",
    "freq = {}\n",
    "for c in text:\n",
    "    c = c.lower()\n",
    "    freq[c] = freq.get(c, 0) + 1\n",
    "    \n",
    "for key, value in freq.items():\n",
    "    print(f\"{key}: {value}\")"
   ]
  },
  {
   "cell_type": "code",
   "execution_count": null,
   "id": "e0345172",
   "metadata": {},
   "outputs": [],
   "source": []
  }
 ],
 "metadata": {
  "kernelspec": {
   "display_name": "Python 3 (ipykernel)",
   "language": "python",
   "name": "python3"
  },
  "language_info": {
   "codemirror_mode": {
    "name": "ipython",
    "version": 3
   },
   "file_extension": ".py",
   "mimetype": "text/x-python",
   "name": "python",
   "nbconvert_exporter": "python",
   "pygments_lexer": "ipython3",
   "version": "3.10.2"
  }
 },
 "nbformat": 4,
 "nbformat_minor": 5
}

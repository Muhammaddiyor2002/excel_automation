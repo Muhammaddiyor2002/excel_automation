{
 "cells": [
  {
   "cell_type": "code",
   "execution_count": null,
   "id": "2c7e3a15",
   "metadata": {},
   "outputs": [],
   "source": [
    "print(\"hello python\")"
   ]
  },
  {
   "cell_type": "code",
   "execution_count": null,
   "id": "7b1149e0",
   "metadata": {},
   "outputs": [],
   "source": [
    "import this"
   ]
  },
  {
   "cell_type": "code",
   "execution_count": null,
   "id": "cb353a22",
   "metadata": {},
   "outputs": [],
   "source": [
    "print(\"hey\", 10, 2.2)"
   ]
  },
  {
   "cell_type": "code",
   "execution_count": null,
   "id": "3d8d8578",
   "metadata": {},
   "outputs": [],
   "source": [
    "s = input()"
   ]
  },
  {
   "cell_type": "code",
   "execution_count": null,
   "id": "5579811c",
   "metadata": {},
   "outputs": [],
   "source": [
    "s"
   ]
  },
  {
   "cell_type": "code",
   "execution_count": null,
   "id": "e52bec63",
   "metadata": {},
   "outputs": [],
   "source": [
    "s = input(\"what's your name? \")"
   ]
  },
  {
   "cell_type": "code",
   "execution_count": null,
   "id": "29c83779",
   "metadata": {},
   "outputs": [],
   "source": [
    "print(s)"
   ]
  },
  {
   "cell_type": "code",
   "execution_count": null,
   "id": "dc273cd0",
   "metadata": {},
   "outputs": [],
   "source": [
    "name = input(\"what's your name? \")\n",
    "print(\"hello\", name.capitalize())  #capitaliza so'zni bosh harfini katta harfga aylantirib beradi\n",
    "age = input(\"how old are you ?\")\n",
    "print(\"you are\", age, \"years old\")"
   ]
  },
  {
   "cell_type": "code",
   "execution_count": null,
   "id": "0d4052f1",
   "metadata": {},
   "outputs": [],
   "source": [
    "s = \"john\"\n",
    "t = s.capitalize()\n",
    "print(t)"
   ]
  },
  {
   "cell_type": "code",
   "execution_count": null,
   "id": "45357543",
   "metadata": {},
   "outputs": [],
   "source": [
    "\"Rune\".upper()"
   ]
  },
  {
   "cell_type": "code",
   "execution_count": null,
   "id": "b3e1b0a6",
   "metadata": {},
   "outputs": [],
   "source": [
    "\"John\".lower()"
   ]
  },
  {
   "cell_type": "code",
   "execution_count": null,
   "id": "1b6c0271",
   "metadata": {},
   "outputs": [],
   "source": [
    "\"223\".isdecimal()"
   ]
  },
  {
   "cell_type": "code",
   "execution_count": null,
   "id": "5b0b81a9",
   "metadata": {},
   "outputs": [],
   "source": [
    "\"Rune\".isdecimal()"
   ]
  },
  {
   "cell_type": "code",
   "execution_count": null,
   "id": "abb1e65c",
   "metadata": {},
   "outputs": [],
   "source": [
    "name = \"Rune\"\n",
    "name.replace('R','T')"
   ]
  },
  {
   "cell_type": "code",
   "execution_count": null,
   "id": "300b7b05",
   "metadata": {},
   "outputs": [],
   "source": [
    "print(\"Rune\", end=' ')\n",
    "print(\"& Sune\")"
   ]
  },
  {
   "cell_type": "code",
   "execution_count": null,
   "id": "28f6fdd4",
   "metadata": {},
   "outputs": [],
   "source": []
  }
 ],
 "metadata": {
  "kernelspec": {
   "display_name": "Python 3 (ipykernel)",
   "language": "python",
   "name": "python3"
  },
  "language_info": {
   "codemirror_mode": {
    "name": "ipython",
    "version": 3
   },
   "file_extension": ".py",
   "mimetype": "text/x-python",
   "name": "python",
   "nbconvert_exporter": "python",
   "pygments_lexer": "ipython3",
   "version": "3.10.2"
  }
 },
 "nbformat": 4,
 "nbformat_minor": 5
}

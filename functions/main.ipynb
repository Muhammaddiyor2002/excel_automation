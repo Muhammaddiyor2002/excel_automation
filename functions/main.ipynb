{
 "cells": [
  {
   "cell_type": "code",
   "execution_count": 2,
   "id": "0c495595",
   "metadata": {},
   "outputs": [],
   "source": [
    "def my_func():\n",
    "    print(\"Hello, World\")\n"
   ]
  },
  {
   "cell_type": "code",
   "execution_count": 3,
   "id": "fffd66c6",
   "metadata": {},
   "outputs": [
    {
     "name": "stdout",
     "output_type": "stream",
     "text": [
      "Hello, World\n"
     ]
    }
   ],
   "source": [
    "my_func()"
   ]
  },
  {
   "cell_type": "code",
   "execution_count": 4,
   "id": "1c080a8b",
   "metadata": {},
   "outputs": [],
   "source": [
    "def print_name(name):\n",
    "    print(f\"Hello {name}\")"
   ]
  },
  {
   "cell_type": "code",
   "execution_count": 6,
   "id": "b923fc12",
   "metadata": {},
   "outputs": [
    {
     "name": "stdout",
     "output_type": "stream",
     "text": [
      "Hello Mukhammad\n"
     ]
    }
   ],
   "source": [
    "print_name(\"Mukhammad\")"
   ]
  },
  {
   "cell_type": "code",
   "execution_count": 8,
   "id": "a2ea3b15",
   "metadata": {},
   "outputs": [
    {
     "name": "stdout",
     "output_type": "stream",
     "text": [
      "Hello Jane\n"
     ]
    }
   ],
   "source": [
    "print_name(\"Jane\")"
   ]
  },
  {
   "cell_type": "code",
   "execution_count": 14,
   "id": "013bcc4a",
   "metadata": {},
   "outputs": [],
   "source": [
    "def print_age(name, age):\n",
    "    print(f\"Hello {name}\")\n",
    "    print(f\"You are {age} years old\")"
   ]
  },
  {
   "cell_type": "code",
   "execution_count": 16,
   "id": "a815c8a2",
   "metadata": {},
   "outputs": [
    {
     "name": "stdout",
     "output_type": "stream",
     "text": [
      "Hello Rune\n",
      "You are 20 years old\n"
     ]
    }
   ],
   "source": [
    "print_age(\"Rune\", 20)"
   ]
  },
  {
   "cell_type": "code",
   "execution_count": 20,
   "id": "81ad8013",
   "metadata": {},
   "outputs": [],
   "source": [
    "def calculate_age(birth_year):\n",
    "    return 2023-birth_year\n",
    "    print(\"Hello\")"
   ]
  },
  {
   "cell_type": "code",
   "execution_count": 21,
   "id": "dc402704",
   "metadata": {},
   "outputs": [
    {
     "data": {
      "text/plain": [
       "21"
      ]
     },
     "execution_count": 21,
     "metadata": {},
     "output_type": "execute_result"
    }
   ],
   "source": [
    "calculate_age(2002)"
   ]
  },
  {
   "cell_type": "code",
   "execution_count": 23,
   "id": "80df8dd5",
   "metadata": {},
   "outputs": [],
   "source": [
    "#  few new things"
   ]
  },
  {
   "cell_type": "code",
   "execution_count": 24,
   "id": "03a7dfe2",
   "metadata": {},
   "outputs": [
    {
     "data": {
      "text/plain": [
       "65"
      ]
     },
     "execution_count": 24,
     "metadata": {},
     "output_type": "execute_result"
    }
   ],
   "source": [
    "ord('A')"
   ]
  },
  {
   "cell_type": "code",
   "execution_count": 26,
   "id": "cdb6c5aa",
   "metadata": {},
   "outputs": [
    {
     "data": {
      "text/plain": [
       "66"
      ]
     },
     "execution_count": 26,
     "metadata": {},
     "output_type": "execute_result"
    }
   ],
   "source": [
    "ord('B')"
   ]
  },
  {
   "cell_type": "code",
   "execution_count": 27,
   "id": "84b70dda",
   "metadata": {},
   "outputs": [
    {
     "data": {
      "text/plain": [
       "'A'"
      ]
     },
     "execution_count": 27,
     "metadata": {},
     "output_type": "execute_result"
    }
   ],
   "source": [
    "chr(65)"
   ]
  },
  {
   "cell_type": "code",
   "execution_count": 28,
   "id": "c07500e9",
   "metadata": {},
   "outputs": [
    {
     "data": {
      "text/plain": [
       "'B'"
      ]
     },
     "execution_count": 28,
     "metadata": {},
     "output_type": "execute_result"
    }
   ],
   "source": [
    "chr(66)"
   ]
  },
  {
   "cell_type": "code",
   "execution_count": 29,
   "id": "5fa24efd",
   "metadata": {},
   "outputs": [
    {
     "data": {
      "text/plain": [
       "'C'"
      ]
     },
     "execution_count": 29,
     "metadata": {},
     "output_type": "execute_result"
    }
   ],
   "source": [
    "chr(67)"
   ]
  },
  {
   "cell_type": "code",
   "execution_count": 30,
   "id": "2aa5525c",
   "metadata": {},
   "outputs": [
    {
     "data": {
      "text/plain": [
       "'E'"
      ]
     },
     "execution_count": 30,
     "metadata": {},
     "output_type": "execute_result"
    }
   ],
   "source": [
    "chr(69)"
   ]
  },
  {
   "cell_type": "code",
   "execution_count": 31,
   "id": "3160cf7b",
   "metadata": {},
   "outputs": [
    {
     "data": {
      "text/plain": [
       "'-'"
      ]
     },
     "execution_count": 31,
     "metadata": {},
     "output_type": "execute_result"
    }
   ],
   "source": [
    "chr(45)"
   ]
  },
  {
   "cell_type": "code",
   "execution_count": 32,
   "id": "1bdedc52",
   "metadata": {},
   "outputs": [
    {
     "name": "stdout",
     "output_type": "stream",
     "text": [
      "65 is A\n",
      "66 is B\n",
      "67 is C\n",
      "68 is D\n",
      "69 is E\n",
      "70 is F\n",
      "71 is G\n",
      "72 is H\n",
      "73 is I\n",
      "74 is J\n",
      "75 is K\n",
      "76 is L\n",
      "77 is M\n",
      "78 is N\n",
      "79 is O\n",
      "80 is P\n",
      "81 is Q\n",
      "82 is R\n",
      "83 is S\n",
      "84 is T\n",
      "85 is U\n",
      "86 is V\n",
      "87 is W\n",
      "88 is X\n",
      "89 is Y\n",
      "90 is Z\n"
     ]
    }
   ],
   "source": [
    "for c in range(65, 65+26):\n",
    "    print(f\"{c} is {chr(c)}\")"
   ]
  },
  {
   "cell_type": "code",
   "execution_count": 34,
   "id": "f92c204a",
   "metadata": {},
   "outputs": [
    {
     "data": {
      "text/plain": [
       "5"
      ]
     },
     "execution_count": 34,
     "metadata": {},
     "output_type": "execute_result"
    }
   ],
   "source": [
    "hours  = 50\n",
    "(hours+3) % 24"
   ]
  },
  {
   "cell_type": "code",
   "execution_count": 35,
   "id": "90332d10",
   "metadata": {},
   "outputs": [],
   "source": [
    "def is_even(n):\n",
    "    if n%2 == 0:\n",
    "        print(\"even\")\n",
    "    else:\n",
    "        print(\"odd\")\n",
    "            "
   ]
  },
  {
   "cell_type": "code",
   "execution_count": 37,
   "id": "861eb319",
   "metadata": {},
   "outputs": [
    {
     "name": "stdout",
     "output_type": "stream",
     "text": [
      "odd\n"
     ]
    }
   ],
   "source": [
    "is_even(1)"
   ]
  },
  {
   "cell_type": "code",
   "execution_count": 38,
   "id": "08e9b183",
   "metadata": {},
   "outputs": [
    {
     "name": "stdout",
     "output_type": "stream",
     "text": [
      "0 even\n",
      "1 odd\n",
      "2 even\n",
      "3 odd\n",
      "4 even\n",
      "5 odd\n",
      "6 even\n",
      "7 odd\n",
      "8 even\n",
      "9 odd\n"
     ]
    }
   ],
   "source": [
    "for i in range(10):\n",
    "    print(i, end=' ')\n",
    "    is_even(i)"
   ]
  },
  {
   "cell_type": "code",
   "execution_count": 55,
   "id": "6c7203f1",
   "metadata": {},
   "outputs": [],
   "source": [
    "# project\n",
    "\n",
    "def encrypt_char(char, key):\n",
    "    return chr(ord('A') +(ord(char) - ord('A')+key) % 26)"
   ]
  },
  {
   "cell_type": "code",
   "execution_count": 60,
   "id": "9f7de80c",
   "metadata": {},
   "outputs": [],
   "source": [
    "def encrypt_message(message, key):\n",
    "    message = message.upper()\n",
    "    cipher = ''\n",
    "    for c in message:\n",
    "        if c in ' ., ':\n",
    "            cipher=cipher+ c\n",
    "        else:\n",
    "            cipher=cipher + encrypt_char(c, key)\n",
    "    return cipher"
   ]
  },
  {
   "cell_type": "code",
   "execution_count": 63,
   "id": "32d49b78",
   "metadata": {},
   "outputs": [
    {
     "data": {
      "text/plain": [
       "'VHQ ELULQFKLVDQ'"
      ]
     },
     "execution_count": 63,
     "metadata": {},
     "output_type": "execute_result"
    }
   ],
   "source": [
    "encrypt_message(\"sen birinchisan\", 3)"
   ]
  },
  {
   "cell_type": "code",
   "execution_count": 65,
   "id": "df7c40c7",
   "metadata": {},
   "outputs": [],
   "source": [
    "def decrpyt_char(char, key):\n",
    "     return chr(ord('A') +(ord(char) - ord('A')+26 -key) % 26)"
   ]
  },
  {
   "cell_type": "code",
   "execution_count": 71,
   "id": "4e544a3a",
   "metadata": {},
   "outputs": [],
   "source": [
    "def decrypt_message(cipher, key):\n",
    "    message = ''\n",
    "    for c in cipher:\n",
    "        if c in ' ,. ':\n",
    "            message = message + c\n",
    "        else:\n",
    "            message = message + decrypt_char(c, key)\n",
    "    return message"
   ]
  },
  {
   "cell_type": "code",
   "execution_count": 73,
   "id": "60926bca",
   "metadata": {},
   "outputs": [
    {
     "ename": "NameError",
     "evalue": "name 'decrypt_char' is not defined",
     "output_type": "error",
     "traceback": [
      "\u001b[1;31m---------------------------------------------------------------------------\u001b[0m",
      "\u001b[1;31mNameError\u001b[0m                                 Traceback (most recent call last)",
      "Cell \u001b[1;32mIn [73], line 1\u001b[0m\n\u001b[1;32m----> 1\u001b[0m \u001b[43mdecrypt_message\u001b[49m\u001b[43m(\u001b[49m\u001b[38;5;124;43m'\u001b[39;49m\u001b[38;5;124;43mVHQ ELULQFKLVDQ\u001b[39;49m\u001b[38;5;124;43m'\u001b[39;49m\u001b[43m,\u001b[49m\u001b[43m \u001b[49m\u001b[38;5;241;43m3\u001b[39;49m\u001b[43m)\u001b[49m\n",
      "Cell \u001b[1;32mIn [71], line 7\u001b[0m, in \u001b[0;36mdecrypt_message\u001b[1;34m(cipher, key)\u001b[0m\n\u001b[0;32m      5\u001b[0m         message \u001b[38;5;241m=\u001b[39m message \u001b[38;5;241m+\u001b[39m c\n\u001b[0;32m      6\u001b[0m     \u001b[38;5;28;01melse\u001b[39;00m:\n\u001b[1;32m----> 7\u001b[0m         message \u001b[38;5;241m=\u001b[39m message \u001b[38;5;241m+\u001b[39m \u001b[43mdecrypt_char\u001b[49m(c, k)\n\u001b[0;32m      8\u001b[0m \u001b[38;5;28;01mreturn\u001b[39;00m message\n",
      "\u001b[1;31mNameError\u001b[0m: name 'decrypt_char' is not defined"
     ]
    }
   ],
   "source": [
    "decrypt_message('VHQ ELULQFKLVDQ', 3)"
   ]
  },
  {
   "cell_type": "code",
   "execution_count": 74,
   "id": "a342f2ad",
   "metadata": {},
   "outputs": [],
   "source": [
    "def decrypt_message(ciphher, key):\n",
    "    return encrypt_message(cipher, 26 - key)"
   ]
  },
  {
   "cell_type": "code",
   "execution_count": 75,
   "id": "bcfd6fb3",
   "metadata": {},
   "outputs": [
    {
     "ename": "SyntaxError",
     "evalue": "unterminated string literal (detected at line 1) (376464559.py, line 1)",
     "output_type": "error",
     "traceback": [
      "\u001b[1;36m  Cell \u001b[1;32mIn [75], line 1\u001b[1;36m\u001b[0m\n\u001b[1;33m    decrypt_message2(VHQ ELULQFKLVDQ', 3)\u001b[0m\n\u001b[1;37m                                    ^\u001b[0m\n\u001b[1;31mSyntaxError\u001b[0m\u001b[1;31m:\u001b[0m unterminated string literal (detected at line 1)\n"
     ]
    }
   ],
   "source": [
    "decrypt_message2(VHQ ELULQFKLVDQ', 3)"
   ]
  }
 ],
 "metadata": {
  "kernelspec": {
   "display_name": "Python 3 (ipykernel)",
   "language": "python",
   "name": "python3"
  },
  "language_info": {
   "codemirror_mode": {
    "name": "ipython",
    "version": 3
   },
   "file_extension": ".py",
   "mimetype": "text/x-python",
   "name": "python",
   "nbconvert_exporter": "python",
   "pygments_lexer": "ipython3",
   "version": "3.10.2"
  }
 },
 "nbformat": 4,
 "nbformat_minor": 5
}

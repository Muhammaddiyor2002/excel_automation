{
 "cells": [
  {
   "cell_type": "code",
   "execution_count": 1,
   "id": "abf5ff74",
   "metadata": {},
   "outputs": [],
   "source": [
    "my_list = [i for i in range(10)]"
   ]
  },
  {
   "cell_type": "code",
   "execution_count": 2,
   "id": "7257fd95",
   "metadata": {},
   "outputs": [
    {
     "data": {
      "text/plain": [
       "[0, 1, 2, 3, 4, 5, 6, 7, 8, 9]"
      ]
     },
     "execution_count": 2,
     "metadata": {},
     "output_type": "execute_result"
    }
   ],
   "source": [
    "my_list"
   ]
  },
  {
   "cell_type": "code",
   "execution_count": 3,
   "id": "e321d5b9",
   "metadata": {},
   "outputs": [],
   "source": [
    "my_list = []\n",
    "for i in range(10):\n",
    "    my_list.append(i)"
   ]
  },
  {
   "cell_type": "code",
   "execution_count": 4,
   "id": "bd57f9a2",
   "metadata": {},
   "outputs": [
    {
     "data": {
      "text/plain": [
       "[0, 1, 2, 3, 4, 5, 6, 7, 8, 9]"
      ]
     },
     "execution_count": 4,
     "metadata": {},
     "output_type": "execute_result"
    }
   ],
   "source": [
    "my_list"
   ]
  },
  {
   "cell_type": "code",
   "execution_count": 5,
   "id": "4e2d2f42",
   "metadata": {},
   "outputs": [],
   "source": [
    "my_list = [i*i for i in range(10)]"
   ]
  },
  {
   "cell_type": "code",
   "execution_count": 6,
   "id": "f93106d4",
   "metadata": {},
   "outputs": [
    {
     "data": {
      "text/plain": [
       "[0, 1, 4, 9, 16, 25, 36, 49, 64, 81]"
      ]
     },
     "execution_count": 6,
     "metadata": {},
     "output_type": "execute_result"
    }
   ],
   "source": [
    "my_list\n"
   ]
  },
  {
   "cell_type": "code",
   "execution_count": 7,
   "id": "eb1bfd67",
   "metadata": {},
   "outputs": [],
   "source": [
    "my_list = [i for i in range(10) if i%2 == 0]"
   ]
  },
  {
   "cell_type": "code",
   "execution_count": 8,
   "id": "a8f2b10e",
   "metadata": {},
   "outputs": [
    {
     "data": {
      "text/plain": [
       "[0, 2, 4, 6, 8]"
      ]
     },
     "execution_count": 8,
     "metadata": {},
     "output_type": "execute_result"
    }
   ],
   "source": [
    "my_list"
   ]
  },
  {
   "cell_type": "code",
   "execution_count": 9,
   "id": "0733036e",
   "metadata": {},
   "outputs": [],
   "source": [
    "my_list = [i if i%2 else -i for i in range(10)]"
   ]
  },
  {
   "cell_type": "code",
   "execution_count": 10,
   "id": "02cc27e0",
   "metadata": {},
   "outputs": [
    {
     "data": {
      "text/plain": [
       "[0, 1, -2, 3, -4, 5, -6, 7, -8, 9]"
      ]
     },
     "execution_count": 10,
     "metadata": {},
     "output_type": "execute_result"
    }
   ],
   "source": [
    "my_list"
   ]
  },
  {
   "cell_type": "code",
   "execution_count": 11,
   "id": "e9763826",
   "metadata": {},
   "outputs": [],
   "source": [
    "my_list = [i for i in range(10)]"
   ]
  },
  {
   "cell_type": "code",
   "execution_count": 12,
   "id": "2fdfc844",
   "metadata": {},
   "outputs": [],
   "source": [
    "another_list = [i*i for i in my_list]"
   ]
  },
  {
   "cell_type": "code",
   "execution_count": 13,
   "id": "34c9700f",
   "metadata": {},
   "outputs": [
    {
     "data": {
      "text/plain": [
       "[0, 1, 4, 9, 16, 25, 36, 49, 64, 81]"
      ]
     },
     "execution_count": 13,
     "metadata": {},
     "output_type": "execute_result"
    }
   ],
   "source": [
    "another_list"
   ]
  },
  {
   "cell_type": "code",
   "execution_count": 14,
   "id": "c7a2c2d1",
   "metadata": {},
   "outputs": [
    {
     "data": {
      "text/plain": [
       "{0: 0, 1: 1, 2: 4, 3: 9, 4: 16, 5: 25, 6: 36, 7: 49, 8: 64, 9: 81}"
      ]
     },
     "execution_count": 14,
     "metadata": {},
     "output_type": "execute_result"
    }
   ],
   "source": [
    "{i: i*i for i in my_list}"
   ]
  },
  {
   "cell_type": "code",
   "execution_count": null,
   "id": "8f99c918",
   "metadata": {},
   "outputs": [],
   "source": []
  },
  {
   "cell_type": "code",
   "execution_count": 15,
   "id": "34949de3",
   "metadata": {},
   "outputs": [],
   "source": [
    "# project\n",
    "\n",
    "\n",
    "\n",
    "def encrypt_char(char, key):\n",
    "    return chr(ord('A') + (ord(char) - ord('A') + key) % 26)"
   ]
  },
  {
   "cell_type": "code",
   "execution_count": 16,
   "id": "fa26c024",
   "metadata": {},
   "outputs": [
    {
     "data": {
      "text/plain": [
       "'B'"
      ]
     },
     "execution_count": 16,
     "metadata": {},
     "output_type": "execute_result"
    }
   ],
   "source": [
    "encrypt_char('Y',3)"
   ]
  },
  {
   "cell_type": "code",
   "execution_count": 17,
   "id": "906f21fb",
   "metadata": {},
   "outputs": [
    {
     "data": {
      "text/plain": [
       "'BRX DUH DZHVRPH'"
      ]
     },
     "execution_count": 17,
     "metadata": {},
     "output_type": "execute_result"
    }
   ],
   "source": [
    "message = \"you are awesome\"\n",
    "key = 3\n",
    "cipher_list = [encrypt_char(c, key) if c not in ' ,. ' else c for c in message.upper()]\n",
    "''.join(cipher_list)\n"
   ]
  },
  {
   "cell_type": "code",
   "execution_count": null,
   "id": "af21d92e",
   "metadata": {},
   "outputs": [],
   "source": []
  },
  {
   "cell_type": "code",
   "execution_count": 21,
   "id": "4a756c17",
   "metadata": {},
   "outputs": [],
   "source": [
    "def decrypt_char(char, key):\n",
    "    return encrypt_char(char, 26-key)"
   ]
  },
  {
   "cell_type": "code",
   "execution_count": 22,
   "id": "0549c2ea",
   "metadata": {},
   "outputs": [
    {
     "data": {
      "text/plain": [
       "'YOU ARE AWESOME'"
      ]
     },
     "execution_count": 22,
     "metadata": {},
     "output_type": "execute_result"
    }
   ],
   "source": [
    "cipher = 'BRX DUH DZHVRPH'\n",
    "key = 3\n",
    "message_list = [decrypt_char(c, key) if c not in ' ,.' else c for c in cipher.upper()]\n",
    "''.join(message_list)"
   ]
  },
  {
   "cell_type": "code",
   "execution_count": null,
   "id": "5fbe4e15",
   "metadata": {},
   "outputs": [],
   "source": []
  },
  {
   "cell_type": "code",
   "execution_count": null,
   "id": "b9e9e24f",
   "metadata": {},
   "outputs": [],
   "source": []
  },
  {
   "cell_type": "code",
   "execution_count": 23,
   "id": "167c7ee1",
   "metadata": {},
   "outputs": [
    {
     "name": "stdout",
     "output_type": "stream",
     "text": [
      "Input line of text: aaabbcccdddeee\n"
     ]
    },
    {
     "data": {
      "text/plain": [
       "{'a': 3, 'b': 2, 'c': 3, 'd': 3, 'e': 3}"
      ]
     },
     "execution_count": 23,
     "metadata": {},
     "output_type": "execute_result"
    }
   ],
   "source": [
    "text = input(\"Input line of text: \")\n",
    "{c: text.count(c) for c in text}"
   ]
  },
  {
   "cell_type": "code",
   "execution_count": 24,
   "id": "59abe2eb",
   "metadata": {},
   "outputs": [
    {
     "name": "stdout",
     "output_type": "stream",
     "text": [
      "Input line of text: aaadfvgvjvfdddesyyyy\n",
      "aaadfvgvjvfdddesyyyy\n",
      "{'g', 'j', 'e', 'y', 's', 'f', 'v', 'd', 'a'}\n"
     ]
    },
    {
     "data": {
      "text/plain": [
       "{'g': 1, 'j': 1, 'e': 1, 'y': 4, 's': 1, 'f': 2, 'v': 3, 'd': 4, 'a': 3}"
      ]
     },
     "execution_count": 24,
     "metadata": {},
     "output_type": "execute_result"
    }
   ],
   "source": [
    "text = input(\"Input line of text: \")\n",
    "\n",
    "print(text)\n",
    "print(set(text))\n",
    "\n",
    "{c: text.count(c) for c in set(text)}"
   ]
  },
  {
   "cell_type": "code",
   "execution_count": null,
   "id": "3e17c011",
   "metadata": {},
   "outputs": [],
   "source": []
  }
 ],
 "metadata": {
  "kernelspec": {
   "display_name": "Python 3 (ipykernel)",
   "language": "python",
   "name": "python3"
  },
  "language_info": {
   "codemirror_mode": {
    "name": "ipython",
    "version": 3
   },
   "file_extension": ".py",
   "mimetype": "text/x-python",
   "name": "python",
   "nbconvert_exporter": "python",
   "pygments_lexer": "ipython3",
   "version": "3.10.2"
  }
 },
 "nbformat": 4,
 "nbformat_minor": 5
}

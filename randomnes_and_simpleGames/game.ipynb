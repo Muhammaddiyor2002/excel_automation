{
 "cells": [
  {
   "cell_type": "code",
   "execution_count": 7,
   "id": "320801c5",
   "metadata": {},
   "outputs": [
    {
     "name": "stdout",
     "output_type": "stream",
     "text": [
      "Tanlovni kiriting: 1:Tosh, 2:Qaychi, 3: Qog'oz \n",
      "Choice (1/2/3): 2\n",
      "Kompyuter: 3\n",
      "Kompyuter yutdi\n"
     ]
    }
   ],
   "source": [
    "# tosh, qog'oz, qaychi o'yini\n",
    "import random\n",
    "\n",
    "print(\"Tanlovni kiriting: 1:Tosh, 2:Qaychi, 3: Qog'oz \")\n",
    "choice = input(\"Choice (1/2/3): \")\n",
    "choice = int(choice)\n",
    "\n",
    "computer_choice = random.randint(1, 3)\n",
    "print(f\"Kompyuter: {computer_choice}\")\n",
    "\n",
    "if choice == computer_choice:\n",
    "    print(\"Durrang\")\n",
    "elif choice == 1:  # Tosh\n",
    "    if computer_choice == 2:  #qog'oz\n",
    "        print(\"Kompyuter yutdi\")\n",
    "    else:\n",
    "            print(\"Siz yutdingiz\")\n",
    "elif choice == 2: # Qog'oz\n",
    "    if computer_choice == 1: #tosh \n",
    "        print(\"Siz yutdingiz\")\n",
    "    else:\n",
    "        print(\"Kompyuter yutdi\")\n",
    "elif choice == 3: #Qaychi\n",
    "    if computer_choice == 1: #Tosh\n",
    "        print(\"Kompyuter yutdi\")\n",
    "    else:\n",
    "        print(\"Siz yutdingiz\")"
   ]
  },
  {
   "cell_type": "code",
   "execution_count": null,
   "id": "5c83ff21",
   "metadata": {},
   "outputs": [],
   "source": []
  }
 ],
 "metadata": {
  "kernelspec": {
   "display_name": "Python 3 (ipykernel)",
   "language": "python",
   "name": "python3"
  },
  "language_info": {
   "codemirror_mode": {
    "name": "ipython",
    "version": 3
   },
   "file_extension": ".py",
   "mimetype": "text/x-python",
   "name": "python",
   "nbconvert_exporter": "python",
   "pygments_lexer": "ipython3",
   "version": "3.10.2"
  }
 },
 "nbformat": 4,
 "nbformat_minor": 5
}

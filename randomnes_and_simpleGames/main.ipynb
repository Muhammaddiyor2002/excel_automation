{
 "cells": [
  {
   "cell_type": "code",
   "execution_count": 2,
   "id": "5bf8df51",
   "metadata": {},
   "outputs": [],
   "source": [
    "import random"
   ]
  },
  {
   "cell_type": "code",
   "execution_count": 14,
   "id": "71658016",
   "metadata": {},
   "outputs": [],
   "source": [
    "a = random.randint(1,6)"
   ]
  },
  {
   "cell_type": "code",
   "execution_count": 23,
   "id": "617a7f58",
   "metadata": {},
   "outputs": [
    {
     "data": {
      "text/plain": [
       "3"
      ]
     },
     "execution_count": 23,
     "metadata": {},
     "output_type": "execute_result"
    }
   ],
   "source": [
    "a"
   ]
  },
  {
   "cell_type": "code",
   "execution_count": 28,
   "id": "5c08c2b9",
   "metadata": {},
   "outputs": [
    {
     "data": {
      "text/plain": [
       "0.678261502744549"
      ]
     },
     "execution_count": 28,
     "metadata": {},
     "output_type": "execute_result"
    }
   ],
   "source": [
    "random.uniform(0,1)"
   ]
  },
  {
   "cell_type": "code",
   "execution_count": null,
   "id": "d443348a",
   "metadata": {},
   "outputs": [],
   "source": [
    "random.gauss(0,1) "
   ]
  },
  {
   "cell_type": "code",
   "execution_count": 29,
   "id": "c8174d60",
   "metadata": {},
   "outputs": [],
   "source": [
    "# project game\n",
    "\n",
    "\n",
    "import random"
   ]
  },
  {
   "cell_type": "code",
   "execution_count": 36,
   "id": "f95dae3f",
   "metadata": {},
   "outputs": [
    {
     "name": "stdout",
     "output_type": "stream",
     "text": [
      "what is 6 times 7? 42\n",
      "Correct 6 times 7 is 42\n"
     ]
    }
   ],
   "source": [
    "a = random.randint(1, 10)\n",
    "b = random.randint(1, 10)\n",
    "answer = input(f\"what is {a} times {b}? \")\n",
    "answer = int(answer)\n",
    "if answer == a*b:\n",
    "    print(f\"Correct {a} times {b} is {answer}\")\n",
    "else:\n",
    "    print(f\"Incorrect {a} times {b} is {a*b}\")"
   ]
  },
  {
   "cell_type": "code",
   "execution_count": null,
   "id": "8a9e6d7c",
   "metadata": {},
   "outputs": [],
   "source": []
  }
 ],
 "metadata": {
  "kernelspec": {
   "display_name": "Python 3 (ipykernel)",
   "language": "python",
   "name": "python3"
  },
  "language_info": {
   "codemirror_mode": {
    "name": "ipython",
    "version": 3
   },
   "file_extension": ".py",
   "mimetype": "text/x-python",
   "name": "python",
   "nbconvert_exporter": "python",
   "pygments_lexer": "ipython3",
   "version": "3.10.2"
  }
 },
 "nbformat": 4,
 "nbformat_minor": 5
}

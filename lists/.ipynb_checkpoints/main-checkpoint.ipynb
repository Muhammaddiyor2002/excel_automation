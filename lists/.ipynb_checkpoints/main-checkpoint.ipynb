{
 "cells": [
  {
   "cell_type": "code",
   "execution_count": 2,
   "id": "01f18f71",
   "metadata": {},
   "outputs": [],
   "source": [
    "my_list = ['Apple','Orange','Banana']"
   ]
  },
  {
   "cell_type": "code",
   "execution_count": 5,
   "id": "69d16b21",
   "metadata": {},
   "outputs": [
    {
     "data": {
      "text/plain": [
       "['Apple', 'Orange', 'Banana']"
      ]
     },
     "execution_count": 5,
     "metadata": {},
     "output_type": "execute_result"
    }
   ],
   "source": [
    "my_list"
   ]
  },
  {
   "cell_type": "code",
   "execution_count": 6,
   "id": "465e0d08",
   "metadata": {},
   "outputs": [
    {
     "data": {
      "text/plain": [
       "'Apple'"
      ]
     },
     "execution_count": 6,
     "metadata": {},
     "output_type": "execute_result"
    }
   ],
   "source": [
    "my_list[0]"
   ]
  },
  {
   "cell_type": "code",
   "execution_count": 11,
   "id": "d6521384",
   "metadata": {},
   "outputs": [
    {
     "data": {
      "text/plain": [
       "'Orange'"
      ]
     },
     "execution_count": 11,
     "metadata": {},
     "output_type": "execute_result"
    }
   ],
   "source": [
    "my_list[-2]"
   ]
  },
  {
   "cell_type": "code",
   "execution_count": 15,
   "id": "7d9bee44",
   "metadata": {},
   "outputs": [
    {
     "data": {
      "text/plain": [
       "'Apple'"
      ]
     },
     "execution_count": 15,
     "metadata": {},
     "output_type": "execute_result"
    }
   ],
   "source": [
    "my_list.pop()"
   ]
  },
  {
   "cell_type": "code",
   "execution_count": 16,
   "id": "128c1b60",
   "metadata": {},
   "outputs": [
    {
     "data": {
      "text/plain": [
       "[]"
      ]
     },
     "execution_count": 16,
     "metadata": {},
     "output_type": "execute_result"
    }
   ],
   "source": [
    "my_list"
   ]
  },
  {
   "cell_type": "code",
   "execution_count": 20,
   "id": "d53640ee",
   "metadata": {},
   "outputs": [],
   "source": [
    "my_list.append(\"Banana\")"
   ]
  },
  {
   "cell_type": "code",
   "execution_count": 21,
   "id": "b3a97ead",
   "metadata": {},
   "outputs": [
    {
     "data": {
      "text/plain": [
       "['Banana', 'Banana', 'Banana', 'Banana']"
      ]
     },
     "execution_count": 21,
     "metadata": {},
     "output_type": "execute_result"
    }
   ],
   "source": [
    "my_list"
   ]
  },
  {
   "cell_type": "code",
   "execution_count": 22,
   "id": "acdc5ef1",
   "metadata": {},
   "outputs": [
    {
     "data": {
      "text/plain": [
       "['Banana', 'Banana', 'Banana', 'Banana', 'France', 'Denmark', 'Sweden']"
      ]
     },
     "execution_count": 22,
     "metadata": {},
     "output_type": "execute_result"
    }
   ],
   "source": [
    "another_list = ['France','Denmark','Sweden']\n",
    "my_list+another_list"
   ]
  },
  {
   "cell_type": "code",
   "execution_count": 24,
   "id": "af9c4162",
   "metadata": {},
   "outputs": [],
   "source": [
    "new_list = my_list+another_list"
   ]
  },
  {
   "cell_type": "code",
   "execution_count": 25,
   "id": "15278c66",
   "metadata": {},
   "outputs": [
    {
     "data": {
      "text/plain": [
       "['Banana', 'Banana', 'Banana', 'Banana', 'France', 'Denmark', 'Sweden']"
      ]
     },
     "execution_count": 25,
     "metadata": {},
     "output_type": "execute_result"
    }
   ],
   "source": [
    "new_list"
   ]
  },
  {
   "cell_type": "code",
   "execution_count": 26,
   "id": "cfe34957",
   "metadata": {},
   "outputs": [],
   "source": [
    "import random"
   ]
  },
  {
   "cell_type": "code",
   "execution_count": 28,
   "id": "6e5ab464",
   "metadata": {},
   "outputs": [
    {
     "data": {
      "text/plain": [
       "'Banana'"
      ]
     },
     "execution_count": 28,
     "metadata": {},
     "output_type": "execute_result"
    }
   ],
   "source": [
    "random.choice(new_list)"
   ]
  },
  {
   "cell_type": "code",
   "execution_count": 30,
   "id": "b5c9fd14",
   "metadata": {},
   "outputs": [
    {
     "data": {
      "text/plain": [
       "['Banana', 'Banana', 'Banana', 'Banana', 'France', 'Denmark', 'Sweden']"
      ]
     },
     "execution_count": 30,
     "metadata": {},
     "output_type": "execute_result"
    }
   ],
   "source": [
    "new_list"
   ]
  },
  {
   "cell_type": "code",
   "execution_count": 32,
   "id": "1b7839f3",
   "metadata": {},
   "outputs": [
    {
     "data": {
      "text/plain": [
       "'France'"
      ]
     },
     "execution_count": 32,
     "metadata": {},
     "output_type": "execute_result"
    }
   ],
   "source": [
    "random.choice(new_list)"
   ]
  },
  {
   "cell_type": "code",
   "execution_count": 33,
   "id": "14aba611",
   "metadata": {},
   "outputs": [
    {
     "data": {
      "text/plain": [
       "['Banana', 'Banana', 'Banana', 'Banana', 'France', 'Denmark', 'Sweden']"
      ]
     },
     "execution_count": 33,
     "metadata": {},
     "output_type": "execute_result"
    }
   ],
   "source": [
    "new_list"
   ]
  },
  {
   "cell_type": "code",
   "execution_count": 34,
   "id": "ae002029",
   "metadata": {},
   "outputs": [],
   "source": [
    "random.shuffle(new_list)"
   ]
  },
  {
   "cell_type": "code",
   "execution_count": 35,
   "id": "09ae8253",
   "metadata": {},
   "outputs": [
    {
     "data": {
      "text/plain": [
       "['Banana', 'Banana', 'Denmark', 'Banana', 'France', 'Banana', 'Sweden']"
      ]
     },
     "execution_count": 35,
     "metadata": {},
     "output_type": "execute_result"
    }
   ],
   "source": [
    "new_list"
   ]
  },
  {
   "cell_type": "code",
   "execution_count": 37,
   "id": "f91daad0",
   "metadata": {},
   "outputs": [
    {
     "data": {
      "text/plain": [
       "'Banana Banana Denmark Banana France Banana Sweden'"
      ]
     },
     "execution_count": 37,
     "metadata": {},
     "output_type": "execute_result"
    }
   ],
   "source": [
    "' '.join(new_list)"
   ]
  },
  {
   "cell_type": "code",
   "execution_count": 45,
   "id": "42e2e9ad",
   "metadata": {},
   "outputs": [
    {
     "data": {
      "text/plain": [
       "'eewsoam'"
      ]
     },
     "execution_count": 45,
     "metadata": {},
     "output_type": "execute_result"
    }
   ],
   "source": [
    "s = \"awesome\"\n",
    "''.join(random.sample(s, len(s)))"
   ]
  },
  {
   "cell_type": "code",
   "execution_count": 46,
   "id": "867fc18c",
   "metadata": {},
   "outputs": [],
   "source": [
    "my_numbers = [3,5,2,6,8,2]"
   ]
  },
  {
   "cell_type": "code",
   "execution_count": 48,
   "id": "6c5c761b",
   "metadata": {},
   "outputs": [
    {
     "data": {
      "text/plain": [
       "[3, 5, 2, 6, 8, 2]"
      ]
     },
     "execution_count": 48,
     "metadata": {},
     "output_type": "execute_result"
    }
   ],
   "source": [
    "my_numbers"
   ]
  },
  {
   "cell_type": "code",
   "execution_count": 51,
   "id": "fcb446b8",
   "metadata": {},
   "outputs": [
    {
     "data": {
      "text/plain": [
       "8"
      ]
     },
     "execution_count": 51,
     "metadata": {},
     "output_type": "execute_result"
    }
   ],
   "source": [
    "max(my_numbers)"
   ]
  },
  {
   "cell_type": "code",
   "execution_count": 59,
   "id": "5b7fd003",
   "metadata": {},
   "outputs": [
    {
     "data": {
      "text/plain": [
       "2"
      ]
     },
     "execution_count": 59,
     "metadata": {},
     "output_type": "execute_result"
    }
   ],
   "source": [
    "min(my_numbers)"
   ]
  },
  {
   "cell_type": "code",
   "execution_count": 58,
   "id": "001f12cf",
   "metadata": {},
   "outputs": [
    {
     "data": {
      "text/plain": [
       "26"
      ]
     },
     "execution_count": 58,
     "metadata": {},
     "output_type": "execute_result"
    }
   ],
   "source": [
    "sum(my_numbers)"
   ]
  },
  {
   "cell_type": "code",
   "execution_count": 61,
   "id": "59f83f0c",
   "metadata": {},
   "outputs": [
    {
     "data": {
      "text/plain": [
       "6"
      ]
     },
     "execution_count": 61,
     "metadata": {},
     "output_type": "execute_result"
    }
   ],
   "source": [
    "len(my_numbers)"
   ]
  },
  {
   "cell_type": "code",
   "execution_count": 62,
   "id": "1dab5fa7",
   "metadata": {},
   "outputs": [
    {
     "data": {
      "text/plain": [
       "4.333333333333333"
      ]
     },
     "execution_count": 62,
     "metadata": {},
     "output_type": "execute_result"
    }
   ],
   "source": [
    "sum(my_numbers)/len(my_numbers)"
   ]
  },
  {
   "cell_type": "code",
   "execution_count": null,
   "id": "22de0c99",
   "metadata": {},
   "outputs": [],
   "source": []
  }
 ],
 "metadata": {
  "kernelspec": {
   "display_name": "Python 3 (ipykernel)",
   "language": "python",
   "name": "python3"
  },
  "language_info": {
   "codemirror_mode": {
    "name": "ipython",
    "version": 3
   },
   "file_extension": ".py",
   "mimetype": "text/x-python",
   "name": "python",
   "nbconvert_exporter": "python",
   "pygments_lexer": "ipython3",
   "version": "3.10.2"
  }
 },
 "nbformat": 4,
 "nbformat_minor": 5
}
